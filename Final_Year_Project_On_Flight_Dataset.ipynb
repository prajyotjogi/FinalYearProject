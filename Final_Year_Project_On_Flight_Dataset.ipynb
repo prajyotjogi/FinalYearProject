{
  "nbformat": 4,
  "nbformat_minor": 0,
  "metadata": {
    "colab": {
      "name": "Final_Year_Project_On_Flight_Dataset",
      "version": "0.3.2",
      "provenance": [],
      "collapsed_sections": [],
      "include_colab_link": true
    },
    "kernelspec": {
      "name": "python3",
      "display_name": "Python 3"
    }
  },
  "cells": [
    {
      "cell_type": "markdown",
      "metadata": {
        "id": "view-in-github",
        "colab_type": "text"
      },
      "source": [
        "<a href=\"https://colab.research.google.com/github/prajyotjogi/FinalYearProject/blob/master/Final_Year_Project_On_Flight_Dataset.ipynb\" target=\"_parent\"><img src=\"https://colab.research.google.com/assets/colab-badge.svg\" alt=\"Open In Colab\"/></a>"
      ]
    },
    {
      "metadata": {
        "id": "8uoTrtdue5Tt",
        "colab_type": "code",
        "colab": {
          "base_uri": "https://localhost:8080/",
          "height": 204
        },
        "outputId": "a649e893-76a1-4c2f-ab73-c5c6180db8fa"
      },
      "cell_type": "code",
      "source": [
        "!wget https://www.machinehack.com/wp-content/uploads/2019/03/Flight_Ticket_Participant_Datasets-20190305T100527Z-001.zip"
      ],
      "execution_count": 157,
      "outputs": [
        {
          "output_type": "stream",
          "text": [
            "--2019-03-29 12:20:57--  https://www.machinehack.com/wp-content/uploads/2019/03/Flight_Ticket_Participant_Datasets-20190305T100527Z-001.zip\n",
            "Resolving www.machinehack.com (www.machinehack.com)... 107.180.71.20\n",
            "Connecting to www.machinehack.com (www.machinehack.com)|107.180.71.20|:443... connected.\n",
            "HTTP request sent, awaiting response... 200 OK\n",
            "Length: 641764 (627K) [application/zip]\n",
            "Saving to: ‘Flight_Ticket_Participant_Datasets-20190305T100527Z-001.zip.1’\n",
            "\n",
            "Flight_Ticket_Parti 100%[===================>] 626.72K   623KB/s    in 1.0s    \n",
            "\n",
            "2019-03-29 12:20:59 (623 KB/s) - ‘Flight_Ticket_Participant_Datasets-20190305T100527Z-001.zip.1’ saved [641764/641764]\n",
            "\n"
          ],
          "name": "stdout"
        }
      ]
    },
    {
      "metadata": {
        "id": "742KoAlXgAPZ",
        "colab_type": "code",
        "colab": {}
      },
      "cell_type": "code",
      "source": [
        "from zipfile import ZipFile\n",
        "zf = ZipFile('Flight_Ticket_Participant_Datasets-20190305T100527Z-001.zip', 'r')\n",
        "zf.extractall('')\n",
        "zf.close()"
      ],
      "execution_count": 0,
      "outputs": []
    },
    {
      "metadata": {
        "id": "rkWMaes_gPeI",
        "colab_type": "code",
        "colab": {}
      },
      "cell_type": "code",
      "source": [
        "import pandas as pd\n",
        "import numpy as np\n",
        "import matplotlib.pyplot as plt\n",
        "%matplotlib inline"
      ],
      "execution_count": 0,
      "outputs": []
    },
    {
      "metadata": {
        "id": "AkhsqEUTg7Lb",
        "colab_type": "code",
        "colab": {
          "base_uri": "https://localhost:8080/",
          "height": 204
        },
        "outputId": "a82f84c5-88ad-4d82-a329-32d323c6fd57"
      },
      "cell_type": "code",
      "source": [
        "df_train = pd.read_excel('Flight_Ticket_Participant_Datasets/Data_Train.xlsx')\n",
        "df_train.head()"
      ],
      "execution_count": 160,
      "outputs": [
        {
          "output_type": "execute_result",
          "data": {
            "text/html": [
              "<div>\n",
              "<style scoped>\n",
              "    .dataframe tbody tr th:only-of-type {\n",
              "        vertical-align: middle;\n",
              "    }\n",
              "\n",
              "    .dataframe tbody tr th {\n",
              "        vertical-align: top;\n",
              "    }\n",
              "\n",
              "    .dataframe thead th {\n",
              "        text-align: right;\n",
              "    }\n",
              "</style>\n",
              "<table border=\"1\" class=\"dataframe\">\n",
              "  <thead>\n",
              "    <tr style=\"text-align: right;\">\n",
              "      <th></th>\n",
              "      <th>Airline</th>\n",
              "      <th>Date_of_Journey</th>\n",
              "      <th>Source</th>\n",
              "      <th>Destination</th>\n",
              "      <th>Route</th>\n",
              "      <th>Dep_Time</th>\n",
              "      <th>Arrival_Time</th>\n",
              "      <th>Duration</th>\n",
              "      <th>Total_Stops</th>\n",
              "      <th>Additional_Info</th>\n",
              "      <th>Price</th>\n",
              "    </tr>\n",
              "  </thead>\n",
              "  <tbody>\n",
              "    <tr>\n",
              "      <th>0</th>\n",
              "      <td>IndiGo</td>\n",
              "      <td>24/03/2019</td>\n",
              "      <td>Banglore</td>\n",
              "      <td>New Delhi</td>\n",
              "      <td>BLR → DEL</td>\n",
              "      <td>22:20</td>\n",
              "      <td>01:10 22 Mar</td>\n",
              "      <td>2h 50m</td>\n",
              "      <td>non-stop</td>\n",
              "      <td>No info</td>\n",
              "      <td>3897</td>\n",
              "    </tr>\n",
              "    <tr>\n",
              "      <th>1</th>\n",
              "      <td>Air India</td>\n",
              "      <td>1/05/2019</td>\n",
              "      <td>Kolkata</td>\n",
              "      <td>Banglore</td>\n",
              "      <td>CCU → IXR → BBI → BLR</td>\n",
              "      <td>05:50</td>\n",
              "      <td>13:15</td>\n",
              "      <td>7h 25m</td>\n",
              "      <td>2 stops</td>\n",
              "      <td>No info</td>\n",
              "      <td>7662</td>\n",
              "    </tr>\n",
              "    <tr>\n",
              "      <th>2</th>\n",
              "      <td>Jet Airways</td>\n",
              "      <td>9/06/2019</td>\n",
              "      <td>Delhi</td>\n",
              "      <td>Cochin</td>\n",
              "      <td>DEL → LKO → BOM → COK</td>\n",
              "      <td>09:25</td>\n",
              "      <td>04:25 10 Jun</td>\n",
              "      <td>19h</td>\n",
              "      <td>2 stops</td>\n",
              "      <td>No info</td>\n",
              "      <td>13882</td>\n",
              "    </tr>\n",
              "    <tr>\n",
              "      <th>3</th>\n",
              "      <td>IndiGo</td>\n",
              "      <td>12/05/2019</td>\n",
              "      <td>Kolkata</td>\n",
              "      <td>Banglore</td>\n",
              "      <td>CCU → NAG → BLR</td>\n",
              "      <td>18:05</td>\n",
              "      <td>23:30</td>\n",
              "      <td>5h 25m</td>\n",
              "      <td>1 stop</td>\n",
              "      <td>No info</td>\n",
              "      <td>6218</td>\n",
              "    </tr>\n",
              "    <tr>\n",
              "      <th>4</th>\n",
              "      <td>IndiGo</td>\n",
              "      <td>01/03/2019</td>\n",
              "      <td>Banglore</td>\n",
              "      <td>New Delhi</td>\n",
              "      <td>BLR → NAG → DEL</td>\n",
              "      <td>16:50</td>\n",
              "      <td>21:35</td>\n",
              "      <td>4h 45m</td>\n",
              "      <td>1 stop</td>\n",
              "      <td>No info</td>\n",
              "      <td>13302</td>\n",
              "    </tr>\n",
              "  </tbody>\n",
              "</table>\n",
              "</div>"
            ],
            "text/plain": [
              "       Airline Date_of_Journey    Source Destination                  Route  \\\n",
              "0       IndiGo      24/03/2019  Banglore   New Delhi              BLR → DEL   \n",
              "1    Air India       1/05/2019   Kolkata    Banglore  CCU → IXR → BBI → BLR   \n",
              "2  Jet Airways       9/06/2019     Delhi      Cochin  DEL → LKO → BOM → COK   \n",
              "3       IndiGo      12/05/2019   Kolkata    Banglore        CCU → NAG → BLR   \n",
              "4       IndiGo      01/03/2019  Banglore   New Delhi        BLR → NAG → DEL   \n",
              "\n",
              "  Dep_Time  Arrival_Time Duration Total_Stops Additional_Info  Price  \n",
              "0    22:20  01:10 22 Mar   2h 50m    non-stop         No info   3897  \n",
              "1    05:50         13:15   7h 25m     2 stops         No info   7662  \n",
              "2    09:25  04:25 10 Jun      19h     2 stops         No info  13882  \n",
              "3    18:05         23:30   5h 25m      1 stop         No info   6218  \n",
              "4    16:50         21:35   4h 45m      1 stop         No info  13302  "
            ]
          },
          "metadata": {
            "tags": []
          },
          "execution_count": 160
        }
      ]
    },
    {
      "metadata": {
        "id": "ryvzFWCBhGBh",
        "colab_type": "code",
        "colab": {
          "base_uri": "https://localhost:8080/",
          "height": 204
        },
        "outputId": "cb34ced7-b888-4b1e-ff09-6737c51ff6e6"
      },
      "cell_type": "code",
      "source": [
        "df_test = pd.read_excel('Flight_Ticket_Participant_Datasets/Test_set.xlsx')\n",
        "df_test.head()"
      ],
      "execution_count": 161,
      "outputs": [
        {
          "output_type": "execute_result",
          "data": {
            "text/html": [
              "<div>\n",
              "<style scoped>\n",
              "    .dataframe tbody tr th:only-of-type {\n",
              "        vertical-align: middle;\n",
              "    }\n",
              "\n",
              "    .dataframe tbody tr th {\n",
              "        vertical-align: top;\n",
              "    }\n",
              "\n",
              "    .dataframe thead th {\n",
              "        text-align: right;\n",
              "    }\n",
              "</style>\n",
              "<table border=\"1\" class=\"dataframe\">\n",
              "  <thead>\n",
              "    <tr style=\"text-align: right;\">\n",
              "      <th></th>\n",
              "      <th>Airline</th>\n",
              "      <th>Date_of_Journey</th>\n",
              "      <th>Source</th>\n",
              "      <th>Destination</th>\n",
              "      <th>Route</th>\n",
              "      <th>Dep_Time</th>\n",
              "      <th>Arrival_Time</th>\n",
              "      <th>Duration</th>\n",
              "      <th>Total_Stops</th>\n",
              "      <th>Additional_Info</th>\n",
              "    </tr>\n",
              "  </thead>\n",
              "  <tbody>\n",
              "    <tr>\n",
              "      <th>0</th>\n",
              "      <td>Jet Airways</td>\n",
              "      <td>6/06/2019</td>\n",
              "      <td>Delhi</td>\n",
              "      <td>Cochin</td>\n",
              "      <td>DEL → BOM → COK</td>\n",
              "      <td>17:30</td>\n",
              "      <td>04:25 07 Jun</td>\n",
              "      <td>10h 55m</td>\n",
              "      <td>1 stop</td>\n",
              "      <td>No info</td>\n",
              "    </tr>\n",
              "    <tr>\n",
              "      <th>1</th>\n",
              "      <td>IndiGo</td>\n",
              "      <td>12/05/2019</td>\n",
              "      <td>Kolkata</td>\n",
              "      <td>Banglore</td>\n",
              "      <td>CCU → MAA → BLR</td>\n",
              "      <td>06:20</td>\n",
              "      <td>10:20</td>\n",
              "      <td>4h</td>\n",
              "      <td>1 stop</td>\n",
              "      <td>No info</td>\n",
              "    </tr>\n",
              "    <tr>\n",
              "      <th>2</th>\n",
              "      <td>Jet Airways</td>\n",
              "      <td>21/05/2019</td>\n",
              "      <td>Delhi</td>\n",
              "      <td>Cochin</td>\n",
              "      <td>DEL → BOM → COK</td>\n",
              "      <td>19:15</td>\n",
              "      <td>19:00 22 May</td>\n",
              "      <td>23h 45m</td>\n",
              "      <td>1 stop</td>\n",
              "      <td>In-flight meal not included</td>\n",
              "    </tr>\n",
              "    <tr>\n",
              "      <th>3</th>\n",
              "      <td>Multiple carriers</td>\n",
              "      <td>21/05/2019</td>\n",
              "      <td>Delhi</td>\n",
              "      <td>Cochin</td>\n",
              "      <td>DEL → BOM → COK</td>\n",
              "      <td>08:00</td>\n",
              "      <td>21:00</td>\n",
              "      <td>13h</td>\n",
              "      <td>1 stop</td>\n",
              "      <td>No info</td>\n",
              "    </tr>\n",
              "    <tr>\n",
              "      <th>4</th>\n",
              "      <td>Air Asia</td>\n",
              "      <td>24/06/2019</td>\n",
              "      <td>Banglore</td>\n",
              "      <td>Delhi</td>\n",
              "      <td>BLR → DEL</td>\n",
              "      <td>23:55</td>\n",
              "      <td>02:45 25 Jun</td>\n",
              "      <td>2h 50m</td>\n",
              "      <td>non-stop</td>\n",
              "      <td>No info</td>\n",
              "    </tr>\n",
              "  </tbody>\n",
              "</table>\n",
              "</div>"
            ],
            "text/plain": [
              "             Airline Date_of_Journey    Source Destination            Route  \\\n",
              "0        Jet Airways       6/06/2019     Delhi      Cochin  DEL → BOM → COK   \n",
              "1             IndiGo      12/05/2019   Kolkata    Banglore  CCU → MAA → BLR   \n",
              "2        Jet Airways      21/05/2019     Delhi      Cochin  DEL → BOM → COK   \n",
              "3  Multiple carriers      21/05/2019     Delhi      Cochin  DEL → BOM → COK   \n",
              "4           Air Asia      24/06/2019  Banglore       Delhi        BLR → DEL   \n",
              "\n",
              "  Dep_Time  Arrival_Time Duration Total_Stops              Additional_Info  \n",
              "0    17:30  04:25 07 Jun  10h 55m      1 stop                      No info  \n",
              "1    06:20         10:20       4h      1 stop                      No info  \n",
              "2    19:15  19:00 22 May  23h 45m      1 stop  In-flight meal not included  \n",
              "3    08:00         21:00      13h      1 stop                      No info  \n",
              "4    23:55  02:45 25 Jun   2h 50m    non-stop                      No info  "
            ]
          },
          "metadata": {
            "tags": []
          },
          "execution_count": 161
        }
      ]
    },
    {
      "metadata": {
        "id": "QSRw9UVc6XuL",
        "colab_type": "code",
        "colab": {}
      },
      "cell_type": "code",
      "source": [
        "df_train = df_train.dropna()\n",
        "df_test = df_test.dropna()"
      ],
      "execution_count": 0,
      "outputs": []
    },
    {
      "metadata": {
        "id": "FBfmk_GK66wq",
        "colab_type": "code",
        "colab": {}
      },
      "cell_type": "code",
      "source": [
        "df_train['Journey_Day'] = pd.to_datetime(df_train.Date_of_Journey, format = '%d/%m/%Y').dt.day\n",
        "df_train['Journey_Month'] = pd.to_datetime(df_train.Date_of_Journey, format = '%d/%m/%Y').dt.month\n",
        "df_test['Journey_Day'] = pd.to_datetime(df_test.Date_of_Journey, format = '%d/%m/%Y').dt.day\n",
        "df_test['Journey_Month'] = pd.to_datetime(df_test.Date_of_Journey, format = '%d/%m/%Y').dt.month\n",
        "\n",
        "df_train.drop(labels='Date_of_Journey',axis = 1, inplace=True)\n",
        "df_test.drop(labels = 'Date_of_Journey',axis=1, inplace=True)"
      ],
      "execution_count": 0,
      "outputs": []
    },
    {
      "metadata": {
        "id": "f4_IAdtzB2nj",
        "colab_type": "code",
        "colab": {
          "base_uri": "https://localhost:8080/",
          "height": 221
        },
        "outputId": "7a466616-70d0-48d4-9b2c-d5099aee51c2"
      },
      "cell_type": "code",
      "source": [
        "df_train.head()"
      ],
      "execution_count": 164,
      "outputs": [
        {
          "output_type": "execute_result",
          "data": {
            "text/html": [
              "<div>\n",
              "<style scoped>\n",
              "    .dataframe tbody tr th:only-of-type {\n",
              "        vertical-align: middle;\n",
              "    }\n",
              "\n",
              "    .dataframe tbody tr th {\n",
              "        vertical-align: top;\n",
              "    }\n",
              "\n",
              "    .dataframe thead th {\n",
              "        text-align: right;\n",
              "    }\n",
              "</style>\n",
              "<table border=\"1\" class=\"dataframe\">\n",
              "  <thead>\n",
              "    <tr style=\"text-align: right;\">\n",
              "      <th></th>\n",
              "      <th>Airline</th>\n",
              "      <th>Source</th>\n",
              "      <th>Destination</th>\n",
              "      <th>Route</th>\n",
              "      <th>Dep_Time</th>\n",
              "      <th>Arrival_Time</th>\n",
              "      <th>Duration</th>\n",
              "      <th>Total_Stops</th>\n",
              "      <th>Additional_Info</th>\n",
              "      <th>Price</th>\n",
              "      <th>Journey_Day</th>\n",
              "      <th>Journey_Month</th>\n",
              "    </tr>\n",
              "  </thead>\n",
              "  <tbody>\n",
              "    <tr>\n",
              "      <th>0</th>\n",
              "      <td>IndiGo</td>\n",
              "      <td>Banglore</td>\n",
              "      <td>New Delhi</td>\n",
              "      <td>BLR → DEL</td>\n",
              "      <td>22:20</td>\n",
              "      <td>01:10 22 Mar</td>\n",
              "      <td>2h 50m</td>\n",
              "      <td>non-stop</td>\n",
              "      <td>No info</td>\n",
              "      <td>3897</td>\n",
              "      <td>24</td>\n",
              "      <td>3</td>\n",
              "    </tr>\n",
              "    <tr>\n",
              "      <th>1</th>\n",
              "      <td>Air India</td>\n",
              "      <td>Kolkata</td>\n",
              "      <td>Banglore</td>\n",
              "      <td>CCU → IXR → BBI → BLR</td>\n",
              "      <td>05:50</td>\n",
              "      <td>13:15</td>\n",
              "      <td>7h 25m</td>\n",
              "      <td>2 stops</td>\n",
              "      <td>No info</td>\n",
              "      <td>7662</td>\n",
              "      <td>1</td>\n",
              "      <td>5</td>\n",
              "    </tr>\n",
              "    <tr>\n",
              "      <th>2</th>\n",
              "      <td>Jet Airways</td>\n",
              "      <td>Delhi</td>\n",
              "      <td>Cochin</td>\n",
              "      <td>DEL → LKO → BOM → COK</td>\n",
              "      <td>09:25</td>\n",
              "      <td>04:25 10 Jun</td>\n",
              "      <td>19h</td>\n",
              "      <td>2 stops</td>\n",
              "      <td>No info</td>\n",
              "      <td>13882</td>\n",
              "      <td>9</td>\n",
              "      <td>6</td>\n",
              "    </tr>\n",
              "    <tr>\n",
              "      <th>3</th>\n",
              "      <td>IndiGo</td>\n",
              "      <td>Kolkata</td>\n",
              "      <td>Banglore</td>\n",
              "      <td>CCU → NAG → BLR</td>\n",
              "      <td>18:05</td>\n",
              "      <td>23:30</td>\n",
              "      <td>5h 25m</td>\n",
              "      <td>1 stop</td>\n",
              "      <td>No info</td>\n",
              "      <td>6218</td>\n",
              "      <td>12</td>\n",
              "      <td>5</td>\n",
              "    </tr>\n",
              "    <tr>\n",
              "      <th>4</th>\n",
              "      <td>IndiGo</td>\n",
              "      <td>Banglore</td>\n",
              "      <td>New Delhi</td>\n",
              "      <td>BLR → NAG → DEL</td>\n",
              "      <td>16:50</td>\n",
              "      <td>21:35</td>\n",
              "      <td>4h 45m</td>\n",
              "      <td>1 stop</td>\n",
              "      <td>No info</td>\n",
              "      <td>13302</td>\n",
              "      <td>1</td>\n",
              "      <td>3</td>\n",
              "    </tr>\n",
              "  </tbody>\n",
              "</table>\n",
              "</div>"
            ],
            "text/plain": [
              "       Airline    Source Destination                  Route Dep_Time  \\\n",
              "0       IndiGo  Banglore   New Delhi              BLR → DEL    22:20   \n",
              "1    Air India   Kolkata    Banglore  CCU → IXR → BBI → BLR    05:50   \n",
              "2  Jet Airways     Delhi      Cochin  DEL → LKO → BOM → COK    09:25   \n",
              "3       IndiGo   Kolkata    Banglore        CCU → NAG → BLR    18:05   \n",
              "4       IndiGo  Banglore   New Delhi        BLR → NAG → DEL    16:50   \n",
              "\n",
              "   Arrival_Time Duration Total_Stops Additional_Info  Price  Journey_Day  \\\n",
              "0  01:10 22 Mar   2h 50m    non-stop         No info   3897           24   \n",
              "1         13:15   7h 25m     2 stops         No info   7662            1   \n",
              "2  04:25 10 Jun      19h     2 stops         No info  13882            9   \n",
              "3         23:30   5h 25m      1 stop         No info   6218           12   \n",
              "4         21:35   4h 45m      1 stop         No info  13302            1   \n",
              "\n",
              "   Journey_Month  \n",
              "0              3  \n",
              "1              5  \n",
              "2              6  \n",
              "3              5  \n",
              "4              3  "
            ]
          },
          "metadata": {
            "tags": []
          },
          "execution_count": 164
        }
      ]
    },
    {
      "metadata": {
        "id": "MCgYjS5LCO19",
        "colab_type": "code",
        "colab": {
          "base_uri": "https://localhost:8080/",
          "height": 204
        },
        "outputId": "12d52fe9-e6da-4a64-e14c-9a628239cd7b"
      },
      "cell_type": "code",
      "source": [
        "df_test.head()"
      ],
      "execution_count": 165,
      "outputs": [
        {
          "output_type": "execute_result",
          "data": {
            "text/html": [
              "<div>\n",
              "<style scoped>\n",
              "    .dataframe tbody tr th:only-of-type {\n",
              "        vertical-align: middle;\n",
              "    }\n",
              "\n",
              "    .dataframe tbody tr th {\n",
              "        vertical-align: top;\n",
              "    }\n",
              "\n",
              "    .dataframe thead th {\n",
              "        text-align: right;\n",
              "    }\n",
              "</style>\n",
              "<table border=\"1\" class=\"dataframe\">\n",
              "  <thead>\n",
              "    <tr style=\"text-align: right;\">\n",
              "      <th></th>\n",
              "      <th>Airline</th>\n",
              "      <th>Source</th>\n",
              "      <th>Destination</th>\n",
              "      <th>Route</th>\n",
              "      <th>Dep_Time</th>\n",
              "      <th>Arrival_Time</th>\n",
              "      <th>Duration</th>\n",
              "      <th>Total_Stops</th>\n",
              "      <th>Additional_Info</th>\n",
              "      <th>Journey_Day</th>\n",
              "      <th>Journey_Month</th>\n",
              "    </tr>\n",
              "  </thead>\n",
              "  <tbody>\n",
              "    <tr>\n",
              "      <th>0</th>\n",
              "      <td>Jet Airways</td>\n",
              "      <td>Delhi</td>\n",
              "      <td>Cochin</td>\n",
              "      <td>DEL → BOM → COK</td>\n",
              "      <td>17:30</td>\n",
              "      <td>04:25 07 Jun</td>\n",
              "      <td>10h 55m</td>\n",
              "      <td>1 stop</td>\n",
              "      <td>No info</td>\n",
              "      <td>6</td>\n",
              "      <td>6</td>\n",
              "    </tr>\n",
              "    <tr>\n",
              "      <th>1</th>\n",
              "      <td>IndiGo</td>\n",
              "      <td>Kolkata</td>\n",
              "      <td>Banglore</td>\n",
              "      <td>CCU → MAA → BLR</td>\n",
              "      <td>06:20</td>\n",
              "      <td>10:20</td>\n",
              "      <td>4h</td>\n",
              "      <td>1 stop</td>\n",
              "      <td>No info</td>\n",
              "      <td>12</td>\n",
              "      <td>5</td>\n",
              "    </tr>\n",
              "    <tr>\n",
              "      <th>2</th>\n",
              "      <td>Jet Airways</td>\n",
              "      <td>Delhi</td>\n",
              "      <td>Cochin</td>\n",
              "      <td>DEL → BOM → COK</td>\n",
              "      <td>19:15</td>\n",
              "      <td>19:00 22 May</td>\n",
              "      <td>23h 45m</td>\n",
              "      <td>1 stop</td>\n",
              "      <td>In-flight meal not included</td>\n",
              "      <td>21</td>\n",
              "      <td>5</td>\n",
              "    </tr>\n",
              "    <tr>\n",
              "      <th>3</th>\n",
              "      <td>Multiple carriers</td>\n",
              "      <td>Delhi</td>\n",
              "      <td>Cochin</td>\n",
              "      <td>DEL → BOM → COK</td>\n",
              "      <td>08:00</td>\n",
              "      <td>21:00</td>\n",
              "      <td>13h</td>\n",
              "      <td>1 stop</td>\n",
              "      <td>No info</td>\n",
              "      <td>21</td>\n",
              "      <td>5</td>\n",
              "    </tr>\n",
              "    <tr>\n",
              "      <th>4</th>\n",
              "      <td>Air Asia</td>\n",
              "      <td>Banglore</td>\n",
              "      <td>Delhi</td>\n",
              "      <td>BLR → DEL</td>\n",
              "      <td>23:55</td>\n",
              "      <td>02:45 25 Jun</td>\n",
              "      <td>2h 50m</td>\n",
              "      <td>non-stop</td>\n",
              "      <td>No info</td>\n",
              "      <td>24</td>\n",
              "      <td>6</td>\n",
              "    </tr>\n",
              "  </tbody>\n",
              "</table>\n",
              "</div>"
            ],
            "text/plain": [
              "             Airline    Source Destination            Route Dep_Time  \\\n",
              "0        Jet Airways     Delhi      Cochin  DEL → BOM → COK    17:30   \n",
              "1             IndiGo   Kolkata    Banglore  CCU → MAA → BLR    06:20   \n",
              "2        Jet Airways     Delhi      Cochin  DEL → BOM → COK    19:15   \n",
              "3  Multiple carriers     Delhi      Cochin  DEL → BOM → COK    08:00   \n",
              "4           Air Asia  Banglore       Delhi        BLR → DEL    23:55   \n",
              "\n",
              "   Arrival_Time Duration Total_Stops              Additional_Info  \\\n",
              "0  04:25 07 Jun  10h 55m      1 stop                      No info   \n",
              "1         10:20       4h      1 stop                      No info   \n",
              "2  19:00 22 May  23h 45m      1 stop  In-flight meal not included   \n",
              "3         21:00      13h      1 stop                      No info   \n",
              "4  02:45 25 Jun   2h 50m    non-stop                      No info   \n",
              "\n",
              "   Journey_Day  Journey_Month  \n",
              "0            6              6  \n",
              "1           12              5  \n",
              "2           21              5  \n",
              "3           21              5  \n",
              "4           24              6  "
            ]
          },
          "metadata": {
            "tags": []
          },
          "execution_count": 165
        }
      ]
    },
    {
      "metadata": {
        "id": "-SLa9LDGCVHc",
        "colab_type": "code",
        "colab": {}
      },
      "cell_type": "code",
      "source": [
        "df_train['Dep_Hour'] = pd.to_datetime(df_train.Dep_Time).dt.hour\n",
        "df_train['Dep_Minutes'] = pd.to_datetime(df_train.Dep_Time).dt.minute\n",
        "\n",
        "df_test['Dep_Hour'] = pd.to_datetime(df_test.Dep_Time).dt.hour\n",
        "df_test['Dep_Minutes'] = pd.to_datetime(df_test.Dep_Time).dt.minute\n",
        "\n",
        "df_train['Arr_Hour'] = pd.to_datetime(df_train.Arrival_Time).dt.hour\n",
        "df_train['Arr_Minutes'] = pd.to_datetime(df_train.Arrival_Time).dt.minute\n",
        "\n",
        "df_test['Arr_Hour'] = pd.to_datetime(df_train.Arrival_Time).dt.hour\n",
        "df_test['Arr_Minutes'] = pd.to_datetime(df_train.Arrival_Time).dt.minute"
      ],
      "execution_count": 0,
      "outputs": []
    },
    {
      "metadata": {
        "id": "0ow0yRDU9fmt",
        "colab_type": "code",
        "colab": {}
      },
      "cell_type": "code",
      "source": [
        "df_train.drop(labels='Dep_Time', axis=1, inplace=True)\n",
        "df_test.drop(labels='Dep_Time', axis=1, inplace=True)\n",
        "df_train.drop(labels='Arrival_Time', axis=1, inplace=True)\n",
        "df_test.drop(labels='Arrival_Time', axis=1, inplace=True)"
      ],
      "execution_count": 0,
      "outputs": []
    },
    {
      "metadata": {
        "id": "tvTg2tT9DU48",
        "colab_type": "code",
        "colab": {
          "base_uri": "https://localhost:8080/",
          "height": 598
        },
        "outputId": "18ef511a-d5c5-47e9-e135-2457efbde167"
      },
      "cell_type": "code",
      "source": [
        "duration = list(df_train['Duration'])\n",
        "dur_hour = []\n",
        "dur_minute = []\n",
        "for i in range(len(duration)):\n",
        "  if len(duration[i].split()) == 2:\n",
        "    dur_hour.append(int(duration[i].split()[0][:-1]))\n",
        "    dur_minute.append(int(duration[i].split()[1][:-1]))\n",
        "  elif len(duration[i].split()) < 2:\n",
        "    if 'h' in duration[i]:\n",
        "      dur_hour.append(int(duration[i][:-1]))\n",
        "      dur_minute.append(0)\n",
        "    if 'm' in duration[i]:\n",
        "      dur_minute.append(int(duration[i][:-1]))\n",
        "      dur_hour.append(0)\n",
        "\n",
        "df_train['Dur_hour'] = dur_hour\n",
        "df_train['Dur_minute'] = dur_minute\n",
        "df_train.drop(labels='Duration', axis=1, inplace=True)\n",
        "df_train.head()"
      ],
      "execution_count": 168,
      "outputs": [
        {
          "output_type": "execute_result",
          "data": {
            "text/html": [
              "<div>\n",
              "<style scoped>\n",
              "    .dataframe tbody tr th:only-of-type {\n",
              "        vertical-align: middle;\n",
              "    }\n",
              "\n",
              "    .dataframe tbody tr th {\n",
              "        vertical-align: top;\n",
              "    }\n",
              "\n",
              "    .dataframe thead th {\n",
              "        text-align: right;\n",
              "    }\n",
              "</style>\n",
              "<table border=\"1\" class=\"dataframe\">\n",
              "  <thead>\n",
              "    <tr style=\"text-align: right;\">\n",
              "      <th></th>\n",
              "      <th>Airline</th>\n",
              "      <th>Source</th>\n",
              "      <th>Destination</th>\n",
              "      <th>Route</th>\n",
              "      <th>Total_Stops</th>\n",
              "      <th>Additional_Info</th>\n",
              "      <th>Price</th>\n",
              "      <th>Journey_Day</th>\n",
              "      <th>Journey_Month</th>\n",
              "      <th>Dep_Hour</th>\n",
              "      <th>Dep_Minutes</th>\n",
              "      <th>Arr_Hour</th>\n",
              "      <th>Arr_Minutes</th>\n",
              "      <th>Dur_hour</th>\n",
              "      <th>Dur_minute</th>\n",
              "    </tr>\n",
              "  </thead>\n",
              "  <tbody>\n",
              "    <tr>\n",
              "      <th>0</th>\n",
              "      <td>IndiGo</td>\n",
              "      <td>Banglore</td>\n",
              "      <td>New Delhi</td>\n",
              "      <td>BLR → DEL</td>\n",
              "      <td>non-stop</td>\n",
              "      <td>No info</td>\n",
              "      <td>3897</td>\n",
              "      <td>24</td>\n",
              "      <td>3</td>\n",
              "      <td>22</td>\n",
              "      <td>20</td>\n",
              "      <td>1</td>\n",
              "      <td>10</td>\n",
              "      <td>2</td>\n",
              "      <td>50</td>\n",
              "    </tr>\n",
              "    <tr>\n",
              "      <th>1</th>\n",
              "      <td>Air India</td>\n",
              "      <td>Kolkata</td>\n",
              "      <td>Banglore</td>\n",
              "      <td>CCU → IXR → BBI → BLR</td>\n",
              "      <td>2 stops</td>\n",
              "      <td>No info</td>\n",
              "      <td>7662</td>\n",
              "      <td>1</td>\n",
              "      <td>5</td>\n",
              "      <td>5</td>\n",
              "      <td>50</td>\n",
              "      <td>13</td>\n",
              "      <td>15</td>\n",
              "      <td>7</td>\n",
              "      <td>25</td>\n",
              "    </tr>\n",
              "    <tr>\n",
              "      <th>2</th>\n",
              "      <td>Jet Airways</td>\n",
              "      <td>Delhi</td>\n",
              "      <td>Cochin</td>\n",
              "      <td>DEL → LKO → BOM → COK</td>\n",
              "      <td>2 stops</td>\n",
              "      <td>No info</td>\n",
              "      <td>13882</td>\n",
              "      <td>9</td>\n",
              "      <td>6</td>\n",
              "      <td>9</td>\n",
              "      <td>25</td>\n",
              "      <td>4</td>\n",
              "      <td>25</td>\n",
              "      <td>19</td>\n",
              "      <td>0</td>\n",
              "    </tr>\n",
              "    <tr>\n",
              "      <th>3</th>\n",
              "      <td>IndiGo</td>\n",
              "      <td>Kolkata</td>\n",
              "      <td>Banglore</td>\n",
              "      <td>CCU → NAG → BLR</td>\n",
              "      <td>1 stop</td>\n",
              "      <td>No info</td>\n",
              "      <td>6218</td>\n",
              "      <td>12</td>\n",
              "      <td>5</td>\n",
              "      <td>18</td>\n",
              "      <td>5</td>\n",
              "      <td>23</td>\n",
              "      <td>30</td>\n",
              "      <td>5</td>\n",
              "      <td>25</td>\n",
              "    </tr>\n",
              "    <tr>\n",
              "      <th>4</th>\n",
              "      <td>IndiGo</td>\n",
              "      <td>Banglore</td>\n",
              "      <td>New Delhi</td>\n",
              "      <td>BLR → NAG → DEL</td>\n",
              "      <td>1 stop</td>\n",
              "      <td>No info</td>\n",
              "      <td>13302</td>\n",
              "      <td>1</td>\n",
              "      <td>3</td>\n",
              "      <td>16</td>\n",
              "      <td>50</td>\n",
              "      <td>21</td>\n",
              "      <td>35</td>\n",
              "      <td>4</td>\n",
              "      <td>45</td>\n",
              "    </tr>\n",
              "  </tbody>\n",
              "</table>\n",
              "</div>"
            ],
            "text/plain": [
              "       Airline    Source Destination                  Route Total_Stops  \\\n",
              "0       IndiGo  Banglore   New Delhi              BLR → DEL    non-stop   \n",
              "1    Air India   Kolkata    Banglore  CCU → IXR → BBI → BLR     2 stops   \n",
              "2  Jet Airways     Delhi      Cochin  DEL → LKO → BOM → COK     2 stops   \n",
              "3       IndiGo   Kolkata    Banglore        CCU → NAG → BLR      1 stop   \n",
              "4       IndiGo  Banglore   New Delhi        BLR → NAG → DEL      1 stop   \n",
              "\n",
              "  Additional_Info  Price  Journey_Day  Journey_Month  Dep_Hour  Dep_Minutes  \\\n",
              "0         No info   3897           24              3        22           20   \n",
              "1         No info   7662            1              5         5           50   \n",
              "2         No info  13882            9              6         9           25   \n",
              "3         No info   6218           12              5        18            5   \n",
              "4         No info  13302            1              3        16           50   \n",
              "\n",
              "   Arr_Hour  Arr_Minutes  Dur_hour  Dur_minute  \n",
              "0         1           10         2          50  \n",
              "1        13           15         7          25  \n",
              "2         4           25        19           0  \n",
              "3        23           30         5          25  \n",
              "4        21           35         4          45  "
            ]
          },
          "metadata": {
            "tags": []
          },
          "execution_count": 168
        }
      ]
    },
    {
      "metadata": {
        "id": "nlchMoZlE-Yi",
        "colab_type": "code",
        "colab": {
          "base_uri": "https://localhost:8080/",
          "height": 530
        },
        "outputId": "991d6a87-38d7-41e0-f854-55cd1c125b6f"
      },
      "cell_type": "code",
      "source": [
        "duration = list(df_test['Duration'])\n",
        "dur_hour = []\n",
        "dur_minute = []\n",
        "for i in range(len(duration)):\n",
        "  if len(duration[i].split()) == 2:\n",
        "    dur_hour.append(int(duration[i].split()[0][:-1]))\n",
        "    dur_minute.append(int(duration[i].split()[1][:-1]))\n",
        "  elif len(duration[i].split()) < 2:\n",
        "    if 'h' in duration[i]:\n",
        "      dur_hour.append(int(duration[i][:-1]))\n",
        "      dur_minute.append(0)\n",
        "    if 'm' in duration[i]:\n",
        "      dur_minute.append(int(duration[i][:-1]))\n",
        "      dur_hour.append(0)\n",
        "\n",
        "df_test['Dur_hour'] = dur_hour\n",
        "df_test['Dur_minute'] = dur_minute\n",
        "df_test.drop(labels='Duration', axis=1, inplace=True)\n",
        "df_test.head()"
      ],
      "execution_count": 169,
      "outputs": [
        {
          "output_type": "execute_result",
          "data": {
            "text/html": [
              "<div>\n",
              "<style scoped>\n",
              "    .dataframe tbody tr th:only-of-type {\n",
              "        vertical-align: middle;\n",
              "    }\n",
              "\n",
              "    .dataframe tbody tr th {\n",
              "        vertical-align: top;\n",
              "    }\n",
              "\n",
              "    .dataframe thead th {\n",
              "        text-align: right;\n",
              "    }\n",
              "</style>\n",
              "<table border=\"1\" class=\"dataframe\">\n",
              "  <thead>\n",
              "    <tr style=\"text-align: right;\">\n",
              "      <th></th>\n",
              "      <th>Airline</th>\n",
              "      <th>Source</th>\n",
              "      <th>Destination</th>\n",
              "      <th>Route</th>\n",
              "      <th>Total_Stops</th>\n",
              "      <th>Additional_Info</th>\n",
              "      <th>Journey_Day</th>\n",
              "      <th>Journey_Month</th>\n",
              "      <th>Dep_Hour</th>\n",
              "      <th>Dep_Minutes</th>\n",
              "      <th>Arr_Hour</th>\n",
              "      <th>Arr_Minutes</th>\n",
              "      <th>Dur_hour</th>\n",
              "      <th>Dur_minute</th>\n",
              "    </tr>\n",
              "  </thead>\n",
              "  <tbody>\n",
              "    <tr>\n",
              "      <th>0</th>\n",
              "      <td>Jet Airways</td>\n",
              "      <td>Delhi</td>\n",
              "      <td>Cochin</td>\n",
              "      <td>DEL → BOM → COK</td>\n",
              "      <td>1 stop</td>\n",
              "      <td>No info</td>\n",
              "      <td>6</td>\n",
              "      <td>6</td>\n",
              "      <td>17</td>\n",
              "      <td>30</td>\n",
              "      <td>1</td>\n",
              "      <td>10</td>\n",
              "      <td>10</td>\n",
              "      <td>55</td>\n",
              "    </tr>\n",
              "    <tr>\n",
              "      <th>1</th>\n",
              "      <td>IndiGo</td>\n",
              "      <td>Kolkata</td>\n",
              "      <td>Banglore</td>\n",
              "      <td>CCU → MAA → BLR</td>\n",
              "      <td>1 stop</td>\n",
              "      <td>No info</td>\n",
              "      <td>12</td>\n",
              "      <td>5</td>\n",
              "      <td>6</td>\n",
              "      <td>20</td>\n",
              "      <td>13</td>\n",
              "      <td>15</td>\n",
              "      <td>4</td>\n",
              "      <td>0</td>\n",
              "    </tr>\n",
              "    <tr>\n",
              "      <th>2</th>\n",
              "      <td>Jet Airways</td>\n",
              "      <td>Delhi</td>\n",
              "      <td>Cochin</td>\n",
              "      <td>DEL → BOM → COK</td>\n",
              "      <td>1 stop</td>\n",
              "      <td>In-flight meal not included</td>\n",
              "      <td>21</td>\n",
              "      <td>5</td>\n",
              "      <td>19</td>\n",
              "      <td>15</td>\n",
              "      <td>4</td>\n",
              "      <td>25</td>\n",
              "      <td>23</td>\n",
              "      <td>45</td>\n",
              "    </tr>\n",
              "    <tr>\n",
              "      <th>3</th>\n",
              "      <td>Multiple carriers</td>\n",
              "      <td>Delhi</td>\n",
              "      <td>Cochin</td>\n",
              "      <td>DEL → BOM → COK</td>\n",
              "      <td>1 stop</td>\n",
              "      <td>No info</td>\n",
              "      <td>21</td>\n",
              "      <td>5</td>\n",
              "      <td>8</td>\n",
              "      <td>0</td>\n",
              "      <td>23</td>\n",
              "      <td>30</td>\n",
              "      <td>13</td>\n",
              "      <td>0</td>\n",
              "    </tr>\n",
              "    <tr>\n",
              "      <th>4</th>\n",
              "      <td>Air Asia</td>\n",
              "      <td>Banglore</td>\n",
              "      <td>Delhi</td>\n",
              "      <td>BLR → DEL</td>\n",
              "      <td>non-stop</td>\n",
              "      <td>No info</td>\n",
              "      <td>24</td>\n",
              "      <td>6</td>\n",
              "      <td>23</td>\n",
              "      <td>55</td>\n",
              "      <td>21</td>\n",
              "      <td>35</td>\n",
              "      <td>2</td>\n",
              "      <td>50</td>\n",
              "    </tr>\n",
              "  </tbody>\n",
              "</table>\n",
              "</div>"
            ],
            "text/plain": [
              "             Airline    Source Destination            Route Total_Stops  \\\n",
              "0        Jet Airways     Delhi      Cochin  DEL → BOM → COK      1 stop   \n",
              "1             IndiGo   Kolkata    Banglore  CCU → MAA → BLR      1 stop   \n",
              "2        Jet Airways     Delhi      Cochin  DEL → BOM → COK      1 stop   \n",
              "3  Multiple carriers     Delhi      Cochin  DEL → BOM → COK      1 stop   \n",
              "4           Air Asia  Banglore       Delhi        BLR → DEL    non-stop   \n",
              "\n",
              "               Additional_Info  Journey_Day  Journey_Month  Dep_Hour  \\\n",
              "0                      No info            6              6        17   \n",
              "1                      No info           12              5         6   \n",
              "2  In-flight meal not included           21              5        19   \n",
              "3                      No info           21              5         8   \n",
              "4                      No info           24              6        23   \n",
              "\n",
              "   Dep_Minutes  Arr_Hour  Arr_Minutes  Dur_hour  Dur_minute  \n",
              "0           30         1           10        10          55  \n",
              "1           20        13           15         4           0  \n",
              "2           15         4           25        23          45  \n",
              "3            0        23           30        13           0  \n",
              "4           55        21           35         2          50  "
            ]
          },
          "metadata": {
            "tags": []
          },
          "execution_count": 169
        }
      ]
    },
    {
      "metadata": {
        "id": "u8-pIHUqA9_C",
        "colab_type": "code",
        "colab": {}
      },
      "cell_type": "code",
      "source": [
        "X_train = np.asanyarray(df_train.iloc[:,df_train.columns != 'Price'].values)\n",
        "Y_train = np.asanyarray(df_train.iloc[:,6].values)\n",
        "X_test = np.asanyarray(df_test.iloc[:,:].values)"
      ],
      "execution_count": 0,
      "outputs": []
    },
    {
      "metadata": {
        "id": "7PbnQ2K0DzT8",
        "colab_type": "code",
        "colab": {
          "base_uri": "https://localhost:8080/",
          "height": 136
        },
        "outputId": "fcb259d9-4261-4796-82e8-b2aa84df664c"
      },
      "cell_type": "code",
      "source": [
        "X_train"
      ],
      "execution_count": 171,
      "outputs": [
        {
          "output_type": "execute_result",
          "data": {
            "text/plain": [
              "array([['IndiGo', 'Banglore', 'New Delhi', ..., 10, 2, 50],\n",
              "       ['Air India', 'Kolkata', 'Banglore', ..., 15, 7, 25],\n",
              "       ['Jet Airways', 'Delhi', 'Cochin', ..., 25, 19, 0],\n",
              "       ...,\n",
              "       ['Jet Airways', 'Banglore', 'Delhi', ..., 20, 3, 0],\n",
              "       ['Vistara', 'Banglore', 'New Delhi', ..., 10, 2, 40],\n",
              "       ['Air India', 'Delhi', 'Cochin', ..., 15, 8, 20]], dtype=object)"
            ]
          },
          "metadata": {
            "tags": []
          },
          "execution_count": 171
        }
      ]
    },
    {
      "metadata": {
        "id": "mn9JWEaX-bf6",
        "colab_type": "code",
        "colab": {}
      },
      "cell_type": "code",
      "source": [
        "from sklearn.preprocessing import LabelEncoder\n",
        "le1 = LabelEncoder()\n",
        "le2 = LabelEncoder()\n",
        "for i in range(6):\n",
        "  X_train[:,i] = le1.fit_transform(X_train[:,i])\n",
        "  X_test[:,i] = le2.fit_transform(X_test[:,i])"
      ],
      "execution_count": 0,
      "outputs": []
    },
    {
      "metadata": {
        "id": "DH884deFAtjg",
        "colab_type": "code",
        "colab": {
          "base_uri": "https://localhost:8080/",
          "height": 136
        },
        "outputId": "7b0deba5-60f6-4d99-921d-0a48d51ed974"
      },
      "cell_type": "code",
      "source": [
        "X_train"
      ],
      "execution_count": 220,
      "outputs": [
        {
          "output_type": "execute_result",
          "data": {
            "text/plain": [
              "array([[3, 0, 5, ..., 10, 2, 50],\n",
              "       [1, 3, 0, ..., 15, 7, 25],\n",
              "       [4, 2, 1, ..., 25, 19, 0],\n",
              "       ...,\n",
              "       [4, 0, 2, ..., 20, 3, 0],\n",
              "       [10, 0, 5, ..., 10, 2, 40],\n",
              "       [1, 2, 1, ..., 15, 8, 20]], dtype=object)"
            ]
          },
          "metadata": {
            "tags": []
          },
          "execution_count": 220
        }
      ]
    },
    {
      "metadata": {
        "id": "bGkHYDgGRt0W",
        "colab_type": "code",
        "colab": {
          "base_uri": "https://localhost:8080/",
          "height": 119
        },
        "outputId": "f8e9c5db-5d30-4fb6-b7d5-7182ffb63aa8"
      },
      "cell_type": "code",
      "source": [
        "print(pd.DataFrame(X_test).head())"
      ],
      "execution_count": 221,
      "outputs": [
        {
          "output_type": "stream",
          "text": [
            "  0  1  2   3  4  5   6  7   8   9   10  11  12  13\n",
            "0  4  2  1  76  0  5   6  6  17  30   1  10  10  55\n",
            "1  3  3  0  65  0  5  12  5   6  20  13  15   4   0\n",
            "2  4  2  1  76  0  3  21  5  19  15   4  25  23  45\n",
            "3  6  2  1  76  0  5  21  5   8   0  23  30  13   0\n",
            "4  0  0  2  16  4  5  24  6  23  55  21  35   2  50\n"
          ],
          "name": "stdout"
        }
      ]
    },
    {
      "metadata": {
        "id": "6fZh9Dr4EAyx",
        "colab_type": "code",
        "colab": {
          "base_uri": "https://localhost:8080/",
          "height": 119
        },
        "outputId": "14b99d27-6012-4e9e-c1e3-8ff3866e6606"
      },
      "cell_type": "code",
      "source": [
        "print(pd.DataFrame(X_train).head())"
      ],
      "execution_count": 222,
      "outputs": [
        {
          "output_type": "stream",
          "text": [
            "  0  1  2    3  4  5   6  7   8   9   10  11  12  13\n",
            "0  3  0  5   18  4  8  24  3  22  20   1  10   2  50\n",
            "1  1  3  0   84  1  8   1  5   5  50  13  15   7  25\n",
            "2  4  2  1  118  1  8   9  6   9  25   4  25  19   0\n",
            "3  3  3  0   91  0  8  12  5  18   5  23  30   5  25\n",
            "4  3  0  5   29  0  8   1  3  16  50  21  35   4  45\n"
          ],
          "name": "stdout"
        }
      ]
    },
    {
      "metadata": {
        "id": "xJcIinQGDXk4",
        "colab_type": "code",
        "colab": {
          "base_uri": "https://localhost:8080/",
          "height": 207
        },
        "outputId": "53bc2722-80e9-4b89-bbb5-f44f6cfc065b"
      },
      "cell_type": "code",
      "source": [
        "from sklearn.preprocessing import StandardScaler\n",
        "sc = StandardScaler()\n",
        "X_train = sc.fit_transform(X_train)\n",
        "X_test = sc.transform(X_test)\n",
        "Y_train = sc.fit_transform(Y_train.reshape(len(Y_train),1))\n",
        "\n"
      ],
      "execution_count": 223,
      "outputs": [
        {
          "output_type": "stream",
          "text": [
            "/usr/local/lib/python3.6/dist-packages/sklearn/utils/validation.py:595: DataConversionWarning: Data with input dtype object was converted to float64 by StandardScaler.\n",
            "  warnings.warn(msg, DataConversionWarning)\n",
            "/usr/local/lib/python3.6/dist-packages/sklearn/utils/validation.py:595: DataConversionWarning: Data with input dtype object was converted to float64 by StandardScaler.\n",
            "  warnings.warn(msg, DataConversionWarning)\n",
            "/usr/local/lib/python3.6/dist-packages/sklearn/utils/validation.py:595: DataConversionWarning: Data with input dtype object was converted to float64 by StandardScaler.\n",
            "  warnings.warn(msg, DataConversionWarning)\n",
            "/usr/local/lib/python3.6/dist-packages/sklearn/utils/validation.py:595: DataConversionWarning: Data with input dtype int64 was converted to float64 by StandardScaler.\n",
            "  warnings.warn(msg, DataConversionWarning)\n",
            "/usr/local/lib/python3.6/dist-packages/sklearn/utils/validation.py:595: DataConversionWarning: Data with input dtype int64 was converted to float64 by StandardScaler.\n",
            "  warnings.warn(msg, DataConversionWarning)\n"
          ],
          "name": "stderr"
        }
      ]
    },
    {
      "metadata": {
        "id": "g0q7NnM5GIJh",
        "colab_type": "code",
        "colab": {
          "base_uri": "https://localhost:8080/",
          "height": 51
        },
        "outputId": "c093fefd-d3c9-41f6-c83c-d6dd344b84b9"
      },
      "cell_type": "code",
      "source": [
        "Y_train = Y_train.ravel()\n",
        "print(Y_train)"
      ],
      "execution_count": 224,
      "outputs": [
        {
          "output_type": "stream",
          "text": [
            "[-1.12553455 -0.30906781  1.03978296 ... -0.40296691  0.77218138\n",
            "  0.57809433]\n"
          ],
          "name": "stdout"
        }
      ]
    },
    {
      "metadata": {
        "id": "nar6qRpSRd02",
        "colab_type": "code",
        "colab": {
          "base_uri": "https://localhost:8080/",
          "height": 238
        },
        "outputId": "e2efc42b-677d-4bc9-f42b-abefdc8b65c9"
      },
      "cell_type": "code",
      "source": [
        "print(pd.DataFrame(X_test).head())"
      ],
      "execution_count": 225,
      "outputs": [
        {
          "output_type": "stream",
          "text": [
            "         0         1         2         3         4         5         6   \\\n",
            "0  0.014369  0.040556 -0.295743  0.032124 -0.807341 -1.970848 -0.885613   \n",
            "1 -0.410805  0.890014 -0.973812 -0.267380 -0.807341 -1.970848 -0.177979   \n",
            "2  0.014369  0.040556 -0.295743  0.032124 -0.807341 -3.618027  0.883471   \n",
            "3  0.864716  0.040556 -0.295743  0.032124 -0.807341 -1.970848  0.883471   \n",
            "4 -1.686326 -1.658359  0.382326 -1.601537  1.407210 -1.970848  1.237288   \n",
            "\n",
            "         7         8         9         10        11        12        13  \n",
            "0  1.109135  0.784369  0.297903 -1.800436 -0.890014 -0.028830  1.574113  \n",
            "1  0.250289 -1.129156 -0.234950 -0.050909 -0.587094 -0.735168 -1.671678  \n",
            "2  0.250289  1.132283 -0.501376 -1.363054  0.018745  1.501569  0.983969  \n",
            "3  0.250289 -0.781243 -1.300655  1.407030  0.321664  0.324339 -1.671678  \n",
            "4  1.109135  1.828111  1.630034  1.115442  0.624584 -0.970614  1.279041  \n"
          ],
          "name": "stdout"
        }
      ]
    },
    {
      "metadata": {
        "id": "qa1kPt90Gpl3",
        "colab_type": "code",
        "colab": {
          "base_uri": "https://localhost:8080/",
          "height": 238
        },
        "outputId": "7254baf5-1a2f-44fc-da43-3248b10827c2"
      },
      "cell_type": "code",
      "source": [
        "print(pd.DataFrame(X_train).head())"
      ],
      "execution_count": 226,
      "outputs": [
        {
          "output_type": "stream",
          "text": [
            "         0         1         2         3         4         5         6   \\\n",
            "0 -0.410805 -1.658359  2.416534 -1.547082  1.407210  0.499921  1.237288   \n",
            "1 -1.261152  0.890014 -0.973812  0.249946 -0.253703  0.499921 -1.475307   \n",
            "2  0.014369  0.040556 -0.295743  1.175687 -0.253703  0.499921 -0.531796   \n",
            "3 -0.410805  0.890014 -0.973812  0.440539 -0.807341  0.499921 -0.177979   \n",
            "4 -0.410805 -1.658359  2.416534 -1.247577 -0.807341  0.499921 -1.475307   \n",
            "\n",
            "         7         8         9         10        11        12        13  \n",
            "0 -1.467402  1.654154 -0.234950 -1.800436 -0.890014 -0.970614  1.279041  \n",
            "1  0.250289 -1.303113  1.363607 -0.050909 -0.587094 -0.381999 -0.196319  \n",
            "2  1.109135 -0.607286  0.031476 -1.363054  0.018745  1.030677 -1.671678  \n",
            "3  0.250289  0.958326 -1.034229  1.407030  0.321664 -0.617445 -0.196319  \n",
            "4 -1.467402  0.610412  1.363607  1.115442  0.624584 -0.735168  0.983969  \n"
          ],
          "name": "stdout"
        }
      ]
    },
    {
      "metadata": {
        "id": "Vu2tV7aPHu80",
        "colab_type": "code",
        "colab": {}
      },
      "cell_type": "code",
      "source": [
        "from sklearn.svm import SVR\n",
        "regr = SVR(kernel='rbf')\n",
        "regr.fit(X_train,Y_train)\n",
        "prediction = regr.predict(X_test)\n",
        "predicted_price = sc.inverse_transform(prediction)"
      ],
      "execution_count": 0,
      "outputs": []
    },
    {
      "metadata": {
        "id": "lCgHZ3HhKfr6",
        "colab_type": "code",
        "colab": {
          "base_uri": "https://localhost:8080/",
          "height": 68
        },
        "outputId": "eb628201-ec3a-49d7-d308-b472adf9ab48"
      },
      "cell_type": "code",
      "source": [
        "print(predicted_price[:11])"
      ],
      "execution_count": 236,
      "outputs": [
        {
          "output_type": "stream",
          "text": [
            "[ 9750.39250348  7729.53500332 10913.02979403  9691.14345527\n",
            "  4210.78546565 11313.33690257  7214.08431181  6766.03654349\n",
            "  2298.3518566  11940.2082401   9883.1965329 ]\n"
          ],
          "name": "stdout"
        }
      ]
    },
    {
      "metadata": {
        "id": "T_hp83fWhvCP",
        "colab_type": "code",
        "colab": {}
      },
      "cell_type": "code",
      "source": [
        "df = pd.DataFrame(predicted_price, columns=['Price'])\n",
        "df.to_excel('Predicted_price.xlsx',index=)"
      ],
      "execution_count": 0,
      "outputs": []
    },
    {
      "metadata": {
        "id": "n8CAPUOOiYYI",
        "colab_type": "code",
        "colab": {}
      },
      "cell_type": "code",
      "source": [
        ""
      ],
      "execution_count": 0,
      "outputs": []
    }
  ]
}